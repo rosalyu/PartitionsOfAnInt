{
 "cells": [
  {
   "cell_type": "code",
   "execution_count": 11,
   "metadata": {},
   "outputs": [
    {
     "name": "stdout",
     "output_type": "stream",
     "text": [
      "[1, 2, 3, 4, 5, 6, 7]\n"
     ]
    }
   ],
   "source": [
    "class Node:\n",
    "    def __init__(self,value,left = None, right = None):\n",
    "        self.value = value\n",
    "        self.left = left\n",
    "        self.right = right\n",
    "    def traverse(self):\n",
    "        if self.left:\n",
    "            self.left.traverse()\n",
    "            yield from self.left.traverse()\n",
    "        yield self.value\n",
    "        if self.right:\n",
    "            self.right.traverse()\n",
    "            for k in self.right.traverse():\n",
    "                yield k\n",
    "                \n",
    "lt = Node(left = Node(1), value = 2, right = Node(3))\n",
    "rt = Node(left = Node(5), value = 6, right = Node(7))\n",
    "tree = Node(left = lt, value = 4, right = rt)\n",
    "print(list(tree.traverse()))"
   ]
  },
  {
   "cell_type": "code",
   "execution_count": null,
   "metadata": {},
   "outputs": [],
   "source": []
  }
 ],
 "metadata": {
  "kernelspec": {
   "display_name": "Python 3",
   "language": "python",
   "name": "python3"
  },
  "language_info": {
   "codemirror_mode": {
    "name": "ipython",
    "version": 3
   },
   "file_extension": ".py",
   "mimetype": "text/x-python",
   "name": "python",
   "nbconvert_exporter": "python",
   "pygments_lexer": "ipython3",
   "version": "3.7.4"
  }
 },
 "nbformat": 4,
 "nbformat_minor": 2
}
