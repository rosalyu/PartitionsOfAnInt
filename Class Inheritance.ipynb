{
 "cells": [
  {
   "cell_type": "code",
   "execution_count": 7,
   "metadata": {},
   "outputs": [
    {
     "name": "stdout",
     "output_type": "stream",
     "text": [
      "Constructor of class B\n",
      "Constructor of class A\n",
      "fun1 of class B\n",
      "fun1 of class A\n"
     ]
    }
   ],
   "source": [
    "class A:\n",
    "    def __init__(self):\n",
    "        print(\"Constructor of class A\")\n",
    "        self.var1=123\n",
    "    def fun1(self):\n",
    "        print(\"fun1 of class A\")\n",
    "class B(A):\n",
    "    def __init__(self):\n",
    "        print(\"Constructor of class B\")\n",
    "        super().__init__()  #A.__init__(self) also possible\n",
    "        self.var2=456\n",
    "    def fun1(self):\n",
    "        print(\"fun1 of class B\")\n",
    "        super().fun1() ##A.__init__(self) also possible\n",
    "        \n",
    "b=B()\n",
    "b.fun1()\n"
   ]
  },
  {
   "cell_type": "code",
   "execution_count": null,
   "metadata": {},
   "outputs": [],
   "source": []
  },
  {
   "cell_type": "code",
   "execution_count": null,
   "metadata": {},
   "outputs": [],
   "source": []
  }
 ],
 "metadata": {
  "kernelspec": {
   "display_name": "Python 3",
   "language": "python",
   "name": "python3"
  },
  "language_info": {
   "codemirror_mode": {
    "name": "ipython",
    "version": 3
   },
   "file_extension": ".py",
   "mimetype": "text/x-python",
   "name": "python",
   "nbconvert_exporter": "python",
   "pygments_lexer": "ipython3",
   "version": "3.7.4"
  }
 },
 "nbformat": 4,
 "nbformat_minor": 2
}
