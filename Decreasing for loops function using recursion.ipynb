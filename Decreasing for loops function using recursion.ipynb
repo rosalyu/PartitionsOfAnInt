{
 "cells": [
  {
   "cell_type": "code",
   "execution_count": 1,
   "metadata": {},
   "outputs": [
    {
     "name": "stdout",
     "output_type": "stream",
     "text": [
      "1\n",
      "2\n",
      "3\n",
      "end\n",
      "1\n",
      "2\n",
      "end\n",
      "\n",
      "\n",
      "1\n",
      "2\n",
      "3\n",
      "end\n",
      "1\n",
      "2\n",
      "end\n",
      "1\n",
      "end\n"
     ]
    }
   ],
   "source": [
    "def loop_rec(y,loops):\n",
    "    if loops >= 1:\n",
    "        loop_rec(y,loops-1)\n",
    "        for x in range(1,y-loops+2):\n",
    "            print(x)\n",
    "        print(\"end\")\n",
    "    else:\n",
    "        return \n",
    "    \n",
    "loop_rec(3,2)\n",
    "print(\"\\n\")\n",
    "\n",
    "def lp(r,loops):\n",
    "    # using variables a,b,c,... depending on position\n",
    "    lst = list(\"abcdefghijklmnopqrstuvwxyz\")\n",
    "    if loops >= 1:\n",
    "        lp(r,loops-1)\n",
    "        for locals()[lst[r-loops]] in range(1,r-loops+2):\n",
    "            print(locals()[lst[r-loops]])\n",
    "        print(\"end\")\n",
    "    else:\n",
    "        return\n",
    "    \n",
    "lp(3,3)"
   ]
  },
  {
   "cell_type": "code",
   "execution_count": null,
   "metadata": {},
   "outputs": [],
   "source": [
    "def lp(r,loops):\n",
    "    lst = list(\"abcdefghijklmnopqrstuvwxyz\")\n",
    "    if loops >= 1:\n",
    "        lp(r,loops-1)\n",
    "        for locals()[lst[r-loops]] in range(1,r+1):\n",
    "            print(locals()[lst[r-loops]])\n",
    "        print(\"end\")\n",
    "    else:\n",
    "        return \n",
    "\n",
    "print(lp(4,3))"
   ]
  }
 ],
 "metadata": {
  "kernelspec": {
   "display_name": "Python 3",
   "language": "python",
   "name": "python3"
  },
  "language_info": {
   "codemirror_mode": {
    "name": "ipython",
    "version": 3
   },
   "file_extension": ".py",
   "mimetype": "text/x-python",
   "name": "python",
   "nbconvert_exporter": "python",
   "pygments_lexer": "ipython3",
   "version": "3.7.4"
  }
 },
 "nbformat": 4,
 "nbformat_minor": 2
}
