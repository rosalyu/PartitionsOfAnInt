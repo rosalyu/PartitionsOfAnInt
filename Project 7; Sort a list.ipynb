{
 "cells": [
  {
   "cell_type": "code",
   "execution_count": 15,
   "metadata": {},
   "outputs": [
    {
     "name": "stdout",
     "output_type": "stream",
     "text": [
      "[1, 2, 3, 4, 5, 6, 7, 8, 9]\n",
      "['a', 'b', 'c', 'd', 'e', 'f', 'g']\n"
     ]
    }
   ],
   "source": [
    "def sort(lst,x = 0):\n",
    "    if x == len(lst)-1:\n",
    "        return \n",
    "    x = 0\n",
    "    for pos in range(len(lst)-1):\n",
    "        if lst[pos]>lst[pos+1]:\n",
    "            a = lst[pos]\n",
    "            lst[pos] = lst[pos+1]\n",
    "            lst[pos+1] = a\n",
    "        else:\n",
    "            x += 1\n",
    "    sort(lst,x)\n",
    "\n",
    "lst1 = [9,3,2,1,4,5,7,6,8]\n",
    "lst2 = list(\"gedcfab\")\n",
    "\n",
    "sort(lst1)\n",
    "print(lst1)\n",
    "sort(lst2)\n",
    "print(lst2)"
   ]
  },
  {
   "cell_type": "code",
   "execution_count": null,
   "metadata": {},
   "outputs": [],
   "source": []
  },
  {
   "cell_type": "code",
   "execution_count": null,
   "metadata": {},
   "outputs": [],
   "source": []
  }
 ],
 "metadata": {
  "kernelspec": {
   "display_name": "Python 3",
   "language": "python",
   "name": "python3"
  },
  "language_info": {
   "codemirror_mode": {
    "name": "ipython",
    "version": 3
   },
   "file_extension": ".py",
   "mimetype": "text/x-python",
   "name": "python",
   "nbconvert_exporter": "python",
   "pygments_lexer": "ipython3",
   "version": "3.7.4"
  }
 },
 "nbformat": 4,
 "nbformat_minor": 2
}
