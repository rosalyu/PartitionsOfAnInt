{
 "cells": [
  {
   "cell_type": "code",
   "execution_count": 1,
   "metadata": {
    "scrolled": true
   },
   "outputs": [
    {
     "name": "stdout",
     "output_type": "stream",
     "text": [
      "\n",
      "\n",
      "Days until moving out: 224 \n",
      "\n",
      "Equal timeframe (past to present): 2020-06-10 \n",
      "\n"
     ]
    }
   ],
   "source": [
    "import datetime\n",
    "today=datetime.date.today()\n",
    "move=datetime.date(2021,9,1)\n",
    "a=input()\n",
    "\n",
    "print('')\n",
    "#Days until moving out\n",
    "delta=move-today\n",
    "print(\"Days until moving out:\",delta.days,\"\\n\")\n",
    "#Equal timeframe (past to present)\n",
    "past=today-delta\n",
    "print(\"Equal timeframe (past to present):\",past,\"\\n\")\n",
    "#Days at bday\n",
    "if a=='bday':   \n",
    "    bday=datetime.date(2021,5,11)\n",
    "    delta2=bday-today\n",
    "    print(\"Days left on bday:\",delta2.days)\n",
    "#Date when x days left\n",
    "if a.isdigit():\n",
    "    left=move-int(a)\n",
    "    print(left)\n",
    "    "
   ]
  },
  {
   "cell_type": "code",
   "execution_count": null,
   "metadata": {
    "scrolled": true
   },
   "outputs": [],
   "source": []
  },
  {
   "cell_type": "code",
   "execution_count": null,
   "metadata": {},
   "outputs": [],
   "source": []
  }
 ],
 "metadata": {
  "kernelspec": {
   "display_name": "Python 3",
   "language": "python",
   "name": "python3"
  },
  "language_info": {
   "codemirror_mode": {
    "name": "ipython",
    "version": 3
   },
   "file_extension": ".py",
   "mimetype": "text/x-python",
   "name": "python",
   "nbconvert_exporter": "python",
   "pygments_lexer": "ipython3",
   "version": "3.7.4"
  }
 },
 "nbformat": 4,
 "nbformat_minor": 2
}
