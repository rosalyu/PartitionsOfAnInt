{
 "cells": [
  {
   "cell_type": "code",
   "execution_count": 16,
   "metadata": {},
   "outputs": [
    {
     "name": "stdout",
     "output_type": "stream",
     "text": [
      "12870\n"
     ]
    }
   ],
   "source": [
    "#num of ways to get from upper left to lower right field of a m by n grid\n",
    "def paths(m,n):\n",
    "    if m == 1 or n == 1:\n",
    "        return 1\n",
    "    else:\n",
    "        return paths(m-1,n) + paths(m,n-1)\n",
    "    \n",
    "print(paths(9,9))"
   ]
  }
 ],
 "metadata": {
  "kernelspec": {
   "display_name": "Python 3",
   "language": "python",
   "name": "python3"
  },
  "language_info": {
   "codemirror_mode": {
    "name": "ipython",
    "version": 3
   },
   "file_extension": ".py",
   "mimetype": "text/x-python",
   "name": "python",
   "nbconvert_exporter": "python",
   "pygments_lexer": "ipython3",
   "version": "3.7.4"
  }
 },
 "nbformat": 4,
 "nbformat_minor": 2
}
