{
 "cells": [
  {
   "cell_type": "code",
   "execution_count": 101,
   "metadata": {},
   "outputs": [
    {
     "name": "stdout",
     "output_type": "stream",
     "text": [
      "[(1, 1, 1, 1, 1, 1), (1, 1, 1, 1, 2), (1, 1, 1, 3), (1, 1, 2, 2), (1, 1, 4), (1, 2, 3), (1, 5), (2, 2, 2), (2, 4), (3, 3), (6,)]\n"
     ]
    }
   ],
   "source": [
    "#number of partitions of an integer, stackoverflow solution with recursion\n",
    "def partition(n):\n",
    "    answer = set()\n",
    "    answer.add((n,))\n",
    "    for x in range(1,n):\n",
    "        for y in partition(n - x):\n",
    "            answer.add(tuple(sorted((x, ) + y)))\n",
    "    return sorted(answer)\n",
    "\n",
    "print(partition(6))\n",
    "\n"
   ]
  },
  {
   "cell_type": "code",
   "execution_count": 106,
   "metadata": {
    "scrolled": true
   },
   "outputs": [
    {
     "name": "stdout",
     "output_type": "stream",
     "text": [
      "[(1, 1, 1, 1, 1, 1), (1, 1, 1, 1, 2), (1, 1, 1, 3), (1, 1, 2, 2), (1, 1, 4), (1, 2, 3), (1, 5), (2, 2, 2), (2, 4), (3, 3), (6,)]\n"
     ]
    }
   ],
   "source": [
    "#number of partitions of an integer, own solution\n",
    "# idea: pictorially putting one element on position 1 to position 0\n",
    "\n",
    "    # parts(6,[1]*6/1)\n",
    "#    [1, 1, 1, 1, 1, 1] = lst\n",
    "    #while len(lst)>1:  \n",
    "    # lst[0]+=lst[1]; lst.remove(lst[1])\n",
    "#    [2, 1, 1, 1, 1]\n",
    "#    [3, 1, 1, 1]\n",
    "    # while (nested) lst[0]-lst[1]>1:\n",
    "    # lst[0]+=1, lst[1]-=1\n",
    "#    [2, 2, 1, 1]\n",
    "    # while len(lst)>1:\n",
    "#    [4, 1, 1]\n",
    "    # while (nested) lst[0]-lst[1]>1:\n",
    "#    [3, 2, 1]\n",
    "    # while len(lst)>1:\n",
    "#    [5, 1]\n",
    "#    [6]\n",
    "    # parts(6,[2]*6/2)\n",
    "#    [2, 2, 2]\n",
    "#    [4, 2]\n",
    "#    [3, 3]\n",
    "#    [6]\n",
    "    # sort and put in set, so that doubles eliminated\n",
    "\n",
    "def partition(n, lst = []):\n",
    "    part = []\n",
    "    part.append(lst[:])\n",
    "    while len(lst) > 1:\n",
    "            while lst[0] - lst[1] > 1:\n",
    "                  lst[0] -= 1\n",
    "                  lst[1] += 1\n",
    "                  part.append(lst[:])\n",
    "            lst[0] += lst[1]\n",
    "            lst.remove(lst[1])\n",
    "            part.append(lst[:])    \n",
    "    return part\n",
    " \n",
    "def all_parts(n):\n",
    "    parts = []\n",
    "    for div in range(1,n+1):\n",
    "        if n%div == 0:\n",
    "            parts.extend(partition(n,[div]*int(n/div)))\n",
    "            \n",
    "    prt = set()\n",
    "    for p in parts:\n",
    "        p = tuple(sorted(p))\n",
    "        prt.add(p)\n",
    "    return sorted(prt)     \n",
    "            \n",
    "print(all_parts(6))\n",
    "                \n",
    "    "
   ]
  },
  {
   "cell_type": "code",
   "execution_count": null,
   "metadata": {},
   "outputs": [],
   "source": []
  }
 ],
 "metadata": {
  "kernelspec": {
   "display_name": "Python 3",
   "language": "python",
   "name": "python3"
  },
  "language_info": {
   "codemirror_mode": {
    "name": "ipython",
    "version": 3
   },
   "file_extension": ".py",
   "mimetype": "text/x-python",
   "name": "python",
   "nbconvert_exporter": "python",
   "pygments_lexer": "ipython3",
   "version": "3.7.4"
  }
 },
 "nbformat": 4,
 "nbformat_minor": 2
}
