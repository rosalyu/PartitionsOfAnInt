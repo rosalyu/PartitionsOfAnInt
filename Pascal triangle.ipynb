{
 "cells": [
  {
   "cell_type": "code",
   "execution_count": 24,
   "metadata": {
    "scrolled": true
   },
   "outputs": [
    {
     "name": "stdout",
     "output_type": "stream",
     "text": [
      "Input: n = 8\n",
      "\n",
      "\n",
      "          1          \n",
      "         1 1         \n",
      "        1 2 1        \n",
      "       1 3 3 1       \n",
      "      1 4 6 4 1      \n",
      "    1 5 10 10 5 1    \n",
      "  1 6 15 20 15 6 1   \n",
      " 1 7 21 35 35 21 7 1 \n"
     ]
    }
   ],
   "source": [
    "# pascal triangle with n rows\n",
    "\n",
    "def pascal_triangle(n,lst = [1], pasc = [[1]]):\n",
    "    if n == 1:\n",
    "        print(\"\\n\")\n",
    "        pasc_strs = []\n",
    "        for row in pasc:\n",
    "            row_str = \" \"\n",
    "            for num in row:\n",
    "                row_str += str(num)+\" \"\n",
    "            pasc_strs.append(row_str)\n",
    "        for row_str in pasc_strs:\n",
    "            print(\"{row:^{width}}\".format(row = row_str,width = len(pasc_strs[-1]) ))\n",
    "        return\n",
    "    \n",
    "    lst.insert(0,0)\n",
    "    lst.append(0)\n",
    "    new_lst = []\n",
    "    for pos in range(len(lst) - 1):\n",
    "        new_lst.append(lst[pos] + lst[pos + 1])\n",
    "    pasc.append(new_lst[:])\n",
    "    pascal_triangle(n - 1,new_lst,pasc)\n",
    "\n",
    "pascal_triangle(int(input(\"Input: n = \")))\n",
    "   \n",
    "        "
   ]
  },
  {
   "cell_type": "code",
   "execution_count": null,
   "metadata": {},
   "outputs": [],
   "source": []
  }
 ],
 "metadata": {
  "kernelspec": {
   "display_name": "Python 3",
   "language": "python",
   "name": "python3"
  },
  "language_info": {
   "codemirror_mode": {
    "name": "ipython",
    "version": 3
   },
   "file_extension": ".py",
   "mimetype": "text/x-python",
   "name": "python",
   "nbconvert_exporter": "python",
   "pygments_lexer": "ipython3",
   "version": "3.7.4"
  }
 },
 "nbformat": 4,
 "nbformat_minor": 2
}
