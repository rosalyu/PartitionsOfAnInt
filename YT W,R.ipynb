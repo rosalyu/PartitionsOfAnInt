{
 "cells": [
  {
   "cell_type": "code",
   "execution_count": 23,
   "metadata": {
    "scrolled": true
   },
   "outputs": [
    {
     "name": "stdout",
     "output_type": "stream",
     "text": [
      "Day number: 17 \n",
      "______________________\n",
      "\n",
      "LISTS INCOMPLETE:\n",
      " \n",
      "Days in for_wajih: 17 \n",
      "Days in for_rosa: 16 \n",
      "______________________\n",
      "\n",
      "Today: 2021-01-20\n",
      "\n",
      "TIME LEFT:\n",
      "W for R: 0:22:13\n",
      "\n",
      "TIME EXCEEDED:\n",
      "R for W: 0:15:50\n",
      "\n",
      "______________________\n",
      "\n",
      "Tomorrow: 2021-01-21\n",
      "\n",
      "TIME LEFT:\n",
      "W for R: 0:37:13\n",
      "\n",
      "TIME EXCEEDED:\n",
      "R for W: 0:00:50\n",
      "\n",
      "______________________\n",
      "\n"
     ]
    }
   ],
   "source": [
    "for_wajih=((29,18),(0,0),(15,39),(27,3),(14,50),(3,25),(0,0),(22,16),(21,51),(13,51),(0,0),(0,0),(91,0),(0,0),(0,0),(0,0),(31,37))\n",
    "for_rosa=((12,45),(17,59),(0,0),(25,6),(12,44),(135,38),(0,0),(0,0),(0,0),(0,0),(0,0),(0,0),(0,0),(0,0),(20,0),(8,35))\n",
    "list={for_rosa:'W for R:',for_wajih:'R for W:'}\n",
    "\n",
    "import datetime\n",
    "today=datetime.date.today()\n",
    "num=today-datetime.date(2021,1,3)\n",
    "line='\\n'+'_'*22+'\\n'\n",
    " \n",
    "#datetime.delta instances    \n",
    "def tm(m,s=0):\n",
    "    return datetime.timedelta(minutes=m,seconds=s)\n",
    "\n",
    "#PRINT DAY NUMBER\n",
    "print('Day number:',str(num.days),line)\n",
    "\n",
    "#LISTS COMPLETE?\n",
    "if not num.days==len(for_wajih)==len(for_rosa):\n",
    "    print('LISTS INCOMPLETE:\\n','\\nDays in for_wajih:',len(for_wajih),'\\nDays in for_rosa:',len(for_rosa),line)\n",
    "\n",
    "#REMAINING TIME\n",
    "d={'Today:':today,'Tomorrow:':today+datetime.timedelta(1)}\n",
    "#DAY\n",
    "stri='{x} {y}'\n",
    "pos=-1\n",
    "for n in d:\n",
    "    pos+=1\n",
    "    print(stri.format(x=n,y=d[n]))\n",
    "    \n",
    "    for person in list:\n",
    "        sum=tm(0)\n",
    "        for t in person:\n",
    "            t=tm(t[0],t[1])\n",
    "            sum+=t\n",
    "        time=tm(15)*num.days-sum\n",
    "        if pos==1:\n",
    "            time+=tm(15)\n",
    "        if time>=tm(0):\n",
    "            print('\\nTIME LEFT:')\n",
    "            print(list[person],time)\n",
    "        else:\n",
    "            print('\\nTIME EXCEEDED:')\n",
    "            print(list[person],-time)\n",
    "    print(line)\n",
    "            \n",
    "            \n",
    "            \n",
    "           "
   ]
  },
  {
   "cell_type": "code",
   "execution_count": null,
   "metadata": {},
   "outputs": [],
   "source": []
  },
  {
   "cell_type": "code",
   "execution_count": null,
   "metadata": {},
   "outputs": [],
   "source": []
  }
 ],
 "metadata": {
  "kernelspec": {
   "display_name": "Python 3",
   "language": "python",
   "name": "python3"
  },
  "language_info": {
   "codemirror_mode": {
    "name": "ipython",
    "version": 3
   },
   "file_extension": ".py",
   "mimetype": "text/x-python",
   "name": "python",
   "nbconvert_exporter": "python",
   "pygments_lexer": "ipython3",
   "version": "3.7.4"
  }
 },
 "nbformat": 4,
 "nbformat_minor": 2
}
