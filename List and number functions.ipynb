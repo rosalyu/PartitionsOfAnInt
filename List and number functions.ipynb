{
 "cells": [
  {
   "cell_type": "code",
   "execution_count": 4,
   "metadata": {},
   "outputs": [
    {
     "name": "stdout",
     "output_type": "stream",
     "text": [
      "10\n",
      "4\n",
      "7\n"
     ]
    }
   ],
   "source": [
    "# sum of all digits in list\n",
    "def sum_list(x):   \n",
    "    sum=int()\n",
    "    for a in x:\n",
    "        sum+=a\n",
    "    return sum\n",
    "\n",
    "# number of elements in list\n",
    "def len_list(x):\n",
    "    sum=int()\n",
    "    for a in x:\n",
    "        sum+=1\n",
    "    return sum\n",
    "\n",
    "# checksum of a number\n",
    "def checksum_num(x):\n",
    "    sum=int()\n",
    "    for a in x:\n",
    "        sum+=a\n",
    "\n",
    "# checksum of all digits in list\n",
    "def checksum_list(x):\n",
    "    sum=int()\n",
    "    for a in x:\n",
    "        sum+=a\n",
    "\n",
    "# sum of any num of numbers        \n",
    "def add(*digs):\n",
    "    sum=0\n",
    "    for x in digs:\n",
    "        sum+=x\n",
    "    return sum\n",
    "        \n",
    "\n",
    "lst = [1,2,3,4]\n",
    "\n",
    "print(sum_list(lst))\n",
    "print(len_list(lst))\n",
    "print(add(1,2,4))"
   ]
  },
  {
   "cell_type": "code",
   "execution_count": null,
   "metadata": {},
   "outputs": [],
   "source": []
  },
  {
   "cell_type": "code",
   "execution_count": null,
   "metadata": {},
   "outputs": [],
   "source": []
  }
 ],
 "metadata": {
  "kernelspec": {
   "display_name": "Python 3",
   "language": "python",
   "name": "python3"
  },
  "language_info": {
   "codemirror_mode": {
    "name": "ipython",
    "version": 3
   },
   "file_extension": ".py",
   "mimetype": "text/x-python",
   "name": "python",
   "nbconvert_exporter": "python",
   "pygments_lexer": "ipython3",
   "version": "3.7.4"
  }
 },
 "nbformat": 4,
 "nbformat_minor": 2
}
