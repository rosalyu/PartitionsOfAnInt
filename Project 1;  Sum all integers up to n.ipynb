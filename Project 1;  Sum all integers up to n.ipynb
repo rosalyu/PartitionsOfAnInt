{
 "cells": [
  {
   "cell_type": "code",
   "execution_count": 2,
   "metadata": {},
   "outputs": [
    {
     "name": "stdout",
     "output_type": "stream",
     "text": [
      "10\n"
     ]
    }
   ],
   "source": [
    "#Output is the sum of all integers from 1 until n\n",
    "#Example: Input=4, Sum=1+2+3+4=10\n",
    "\n",
    "def sum_up_to(n):\n",
    "    return int(n/2*(n+1))\n",
    "    \n",
    "print(sum_up_to(4))\n"
   ]
  },
  {
   "cell_type": "code",
   "execution_count": null,
   "metadata": {},
   "outputs": [],
   "source": [
    "#sum of all integers up to n using recursion\n",
    "\n",
    "def sum_up_to(n):\n",
    "    if n == 0:\n",
    "        return 0\n",
    "    else:\n",
    "        return n + sum_up_to(n-1)\n",
    "\n",
    "print(sum_up_to(4))"
   ]
  }
 ],
 "metadata": {
  "kernelspec": {
   "display_name": "Python 3",
   "language": "python",
   "name": "python3"
  },
  "language_info": {
   "codemirror_mode": {
    "name": "ipython",
    "version": 3
   },
   "file_extension": ".py",
   "mimetype": "text/x-python",
   "name": "python",
   "nbconvert_exporter": "python",
   "pygments_lexer": "ipython3",
   "version": "3.7.4"
  }
 },
 "nbformat": 4,
 "nbformat_minor": 2
}
